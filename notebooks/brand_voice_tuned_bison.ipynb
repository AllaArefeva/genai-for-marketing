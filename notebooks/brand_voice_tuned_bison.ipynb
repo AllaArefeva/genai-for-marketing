{
  "cells": [
    {
      "cell_type": "code",
      "execution_count": null,
      "metadata": {
        "id": "ur8xi4C7S06n"
      },
      "outputs": [],
      "source": [
        "# Copyright 2023 Google LLC\n",
        "#\n",
        "# Licensed under the Apache License, Version 2.0 (the \"License\");\n",
        "# you may not use this file except in compliance with the License.\n",
        "# You may obtain a copy of the License at\n",
        "#\n",
        "#     https://www.apache.org/licenses/LICENSE-2.0\n",
        "#\n",
        "# Unless required by applicable law or agreed to in writing, software\n",
        "# distributed under the License is distributed on an \"AS IS\" BASIS,\n",
        "# WITHOUT WARRANTIES OR CONDITIONS OF ANY KIND, either express or implied.\n",
        "# See the License for the specific language governing permissions and\n",
        "# limitations under the License."
      ]
    },
    {
      "cell_type": "markdown",
      "metadata": {
        "id": "tvgnzT1CKxrO"
      },
      "source": [
        "# Brand Voice using Tuned foundation model\n",
        "\n",
        "<table align=\"left\">\n",
        "  <td style=\"text-align: center\">\n",
        "    <a href=\"https://colab.research.google.com/github/GoogleCloudPlatform/\">\n",
        "      <img src=\"https://cloud.google.com/ml-engine/images/colab-logo-32px.png\" alt=\"Google Colaboratory logo\"><br> Run in Colab\n",
        "    </a>\n",
        "  </td>\n",
        "  <td style=\"text-align: center\">\n",
        "    <a href=\"https://github.com/GoogleCloudPlatform/\">\n",
        "      <img src=\"https://cloud.google.com/ml-engine/images/github-logo-32px.png\" alt=\"GitHub logo\"><br> View on GitHub\n",
        "    </a>\n",
        "  </td>\n",
        "  <td style=\"text-align: center\">\n",
        "    <a href=\"https://console.cloud.google.com/vertex-ai/workbench/deploy-notebook?download_url=https://raw.githubusercontent.com/GoogleCloudPlatform/\">\n",
        "      <img src=\"https://lh3.googleusercontent.com/UiNooY4LUgW_oTvpsNhPpQzsstV5W8F7rYgxgGBD85cWJoLmrOzhVs_ksK_vgx40SHs7jCqkTkCk=e14-rj-sc0xffffff-h130-w32\" alt=\"Vertex AI logo\"><br> Open in Vertex AI Workbench\n",
        "    </a>\n",
        "  </td>\n",
        "</table>\n"
      ]
    },
    {
      "cell_type": "markdown",
      "metadata": {
        "id": "JAPoU8Sm5E6e"
      },
      "source": [
        "Your brand's voice is its soul - the way it speaks to the world. This notebook will become your essential toolkit for crafting and refining a distinct voice of the brand for all your content creation efforts. It's designed to be a living document, guiding you in translating abstract brand values into tangible communication.\n",
        "\n",
        "On Vertex AI, tuning allows you to customize a foundation model for more specific tasks or knowledge domains.\n",
        "\n",
        "While the prompt design is excellent for quick experimentation, if training data (examples) is available, tuning a model enables you to customize the model for the characterstics of your brand you want to project.\n",
        "\n",
        "For more details on tuning have a look at the [official documentation](https://cloud.google.com/vertex-ai/docs/generative-ai/models/tune-models)."
      ]
    },
    {
      "cell_type": "markdown",
      "metadata": {
        "id": "d975e698c9a4"
      },
      "source": [
        "### Objective\n",
        "\n",
        "This tutorial teaches you how to tune a foundational model on new unseen data and you will use the following Google Cloud products:\n",
        "\n",
        "- Vertex AI Generative AI Studio\n",
        "- Vertex AI Pipelines\n",
        "- Vertex AI Model Registry\n",
        "- Vertex AI Endpoints\n",
        "\n",
        "The steps performed include:\n",
        "\n",
        "- Upload training data\n",
        "- Create a pipeline job\n",
        "- Inspect your model on Vertex AI Model Registry\n",
        "- Get predictions from your tuned model"
      ]
    },
    {
      "cell_type": "markdown",
      "metadata": {
        "id": "6CZvFRbIaalF"
      },
      "source": [
        "### Quota\n",
        "**important**: Tuning the text-bison@002  model uses the tpu-v3-8 training resources and the accompanying quotas from your Google Cloud project. Each project has a default quota of eight v3-8 cores, which allows for one to two concurrent tuning jobs. If you want to run more concurrent jobs you need to request additional quota via the [Quotas page](https://console.cloud.google.com/iam-admin/quotas)."
      ]
    },
    {
      "cell_type": "markdown",
      "metadata": {
        "id": "6q2bKpVjaalF"
      },
      "source": [
        "### Costs\n",
        "This tutorial uses billable components of Google Cloud:\n",
        "\n",
        "* Vertex AI Generative AI Studio\n",
        "\n",
        "Learn about [Vertex AI pricing](https://cloud.google.com/vertex-ai/pricing),\n",
        "and use the [Pricing Calculator](https://cloud.google.com/products/calculator/)\n",
        "to generate a cost estimate based on your projected usage."
      ]
    },
    {
      "cell_type": "markdown",
      "metadata": {
        "id": "acBlvcGFaalF"
      },
      "source": [
        "### Install Vertex AI SDK"
      ]
    },
    {
      "cell_type": "code",
      "execution_count": 4,
      "metadata": {
        "colab": {
          "base_uri": "https://localhost:8080/"
        },
        "id": "BEtR1xyRaalG",
        "outputId": "25fc90d9-ac04-4797-ea67-f00639fca92e"
      },
      "outputs": [
        {
          "name": "stdout",
          "output_type": "stream",
          "text": [
            "\u001b[?25l     \u001b[90m━━━━━━━━━━━━━━━━━━━━━━━━━━━━━━━━━━━━━━━━\u001b[0m \u001b[32m0.0/4.3 MB\u001b[0m \u001b[31m?\u001b[0m eta \u001b[36m-:--:--\u001b[0m\r\u001b[2K     \u001b[91m━━━\u001b[0m\u001b[90m╺\u001b[0m\u001b[90m━━━━━━━━━━━━━━━━━━━━━━━━━━━━━━━━━━━━\u001b[0m \u001b[32m0.4/4.3 MB\u001b[0m \u001b[31m10.6 MB/s\u001b[0m eta \u001b[36m0:00:01\u001b[0m\r\u001b[2K     \u001b[91m━━━━━━━━━━\u001b[0m\u001b[91m╸\u001b[0m\u001b[90m━━━━━━━━━━━━━━━━━━━━━━━━━━━━━\u001b[0m \u001b[32m1.1/4.3 MB\u001b[0m \u001b[31m16.8 MB/s\u001b[0m eta \u001b[36m0:00:01\u001b[0m\r\u001b[2K     \u001b[91m━━━━━━━━━━━━━━━━━━━━\u001b[0m\u001b[90m╺\u001b[0m\u001b[90m━━━━━━━━━━━━━━━━━━━\u001b[0m \u001b[32m2.2/4.3 MB\u001b[0m \u001b[31m20.4 MB/s\u001b[0m eta \u001b[36m0:00:01\u001b[0m\r\u001b[2K     \u001b[91m━━━━━━━━━━━━━━━━━━━━━━━━━━━━━━━━\u001b[0m\u001b[90m╺\u001b[0m\u001b[90m━━━━━━━\u001b[0m \u001b[32m3.4/4.3 MB\u001b[0m \u001b[31m24.3 MB/s\u001b[0m eta \u001b[36m0:00:01\u001b[0m\r\u001b[2K     \u001b[91m━━━━━━━━━━━━━━━━━━━━━━━━━━━━━━━━━━━━━━━\u001b[0m\u001b[91m╸\u001b[0m \u001b[32m4.3/4.3 MB\u001b[0m \u001b[31m26.6 MB/s\u001b[0m eta \u001b[36m0:00:01\u001b[0m\r\u001b[2K     \u001b[90m━━━━━━━━━━━━━━━━━━━━━━━━━━━━━━━━━━━━━━━━\u001b[0m \u001b[32m4.3/4.3 MB\u001b[0m \u001b[31m21.2 MB/s\u001b[0m eta \u001b[36m0:00:00\u001b[0m\n",
            "\u001b[?25h\u001b[33m  WARNING: The script tb-gcp-uploader is installed in '/root/.local/bin' which is not on PATH.\n",
            "  Consider adding this directory to PATH or, if you prefer to suppress this warning, use --no-warn-script-location.\u001b[0m\u001b[33m\n",
            "\u001b[0m"
          ]
        }
      ],
      "source": [
        "!pip install google-cloud-aiplatform --upgrade --user --quiet"
      ]
    },
    {
      "cell_type": "markdown",
      "metadata": {
        "id": "qAMVnZC9aalG"
      },
      "source": [
        "**Colab only:** Uncomment the following cell to restart the kernel or use the restart button. For Vertex AI Workbench you can restart the terminal using the button on top."
      ]
    },
    {
      "cell_type": "code",
      "execution_count": 5,
      "metadata": {
        "colab": {
          "base_uri": "https://localhost:8080/"
        },
        "id": "MdQC6wcuaalG",
        "outputId": "4b9b5bc5-1c8d-4665-abfe-962f35eab04f"
      },
      "outputs": [
        {
          "data": {
            "text/plain": [
              "{'status': 'ok', 'restart': True}"
            ]
          },
          "execution_count": 5,
          "metadata": {},
          "output_type": "execute_result"
        }
      ],
      "source": [
        "# Automatically restart kernel after installs so that your environment can access the new packages\n",
        "import IPython\n",
        "\n",
        "app = IPython.Application.instance()\n",
        "app.kernel.do_shutdown(True)"
      ]
    },
    {
      "cell_type": "markdown",
      "metadata": {
        "id": "2LlxsZrWaalG"
      },
      "source": [
        "### Authenticating your notebook environment\n",
        "* If you are using **Colab** to run this notebook, uncomment the cell below and continue.\n",
        "* If you are using **Vertex AI Workbench**, check out the setup instructions [here](https://github.com/GoogleCloudPlatform/generative-ai/tree/main/setup-env)."
      ]
    },
    {
      "cell_type": "code",
      "execution_count": 1,
      "metadata": {
        "id": "oh-QANoIaalG"
      },
      "outputs": [],
      "source": [
        "from google.colab import auth\n",
        "\n",
        "auth.authenticate_user()"
      ]
    },
    {
      "cell_type": "markdown",
      "metadata": {
        "id": "ZmhnHOjlaalH"
      },
      "source": [
        "### Set your project ID\n",
        "\n",
        "**If you don't know your project ID**, you may be able to get your project ID using `gcloud`. Otherwise, check the support page: Locate the [project ID](https://support.google.com/googleapi/answer/7014113). Please update `PROJECT_ID` below."
      ]
    },
    {
      "cell_type": "code",
      "execution_count": 2,
      "metadata": {
        "colab": {
          "base_uri": "https://localhost:8080/"
        },
        "id": "j8nXkkYxaalH",
        "outputId": "1f7c2f65-aea9-4eb8-d9a1-274cd77cd9da"
      },
      "outputs": [
        {
          "name": "stdout",
          "output_type": "stream",
          "text": [
            "Updated property [core/project].\n"
          ]
        }
      ],
      "source": [
        "PROJECT_ID = \"YOUR_GOOGLE_CLOUD_PROJECT_HERE\"  # @param {type:\"string\"}\n",
        "\n",
        "# Set the project id\n",
        "! gcloud config set project {PROJECT_ID}"
      ]
    },
    {
      "cell_type": "markdown",
      "metadata": {
        "id": "PrsmSjICaalH"
      },
      "source": [
        "### Create a bucket\n",
        "Now you have to create a bucket that we will use to store our tuning data. To avoid name collisions between users on resources created, you generate a UUID for each instance session and append it to the name of the resources you create in this tutorial."
      ]
    },
    {
      "cell_type": "code",
      "execution_count": 11,
      "metadata": {
        "id": "LiKRZOgqaalH"
      },
      "outputs": [],
      "source": [
        "import random\n",
        "import string\n",
        "\n",
        "\n",
        "# Generate a uuid of a specifed length(default=8)\n",
        "def generate_uuid(length: int = 8) -> str:\n",
        "    return \"\".join(random.choices(string.ascii_lowercase + string.digits, k=length))\n",
        "\n",
        "\n",
        "UUID = generate_uuid()"
      ]
    },
    {
      "cell_type": "markdown",
      "metadata": {
        "id": "-D28-KrtaalH"
      },
      "source": [
        "Choose a bucket name and update the `BUCKET_NAME` parameter."
      ]
    },
    {
      "cell_type": "code",
      "execution_count": 14,
      "metadata": {
        "id": "pxRSNVCYaalH"
      },
      "outputs": [],
      "source": [
        "BUCKET_NAME = \"genai-mkt-dev/tune-dataset\"  # @param {type:\"string\"}\n",
        "BUCKET_URI = f\"gs://{BUCKET_NAME}\"\n",
        "REGION = \"us-central1\"  # @param {type: \"string\"}"
      ]
    },
    {
      "cell_type": "code",
      "execution_count": 9,
      "metadata": {
        "id": "ZpjqMRc-aalH"
      },
      "outputs": [],
      "source": [
        "if BUCKET_NAME == \"\" or BUCKET_NAME is None or BUCKET_NAME == \"<your-bucket-name>\":\n",
        "    BUCKET_NAME = \"vertex-\" + UUID\n",
        "    BUCKET_URI = f\"gs://{BUCKET_NAME}\""
      ]
    },
    {
      "cell_type": "markdown",
      "metadata": {
        "id": "WtJg8ILPaalH"
      },
      "source": [
        "Only if your bucket doesn't already exist: Run the following cell to create your Cloud Storage bucket."
      ]
    },
    {
      "cell_type": "code",
      "execution_count": 15,
      "metadata": {
        "colab": {
          "base_uri": "https://localhost:8080/"
        },
        "id": "NSRiXkavaalH",
        "outputId": "713d64fd-a0df-4caa-9dc9-2a4b799736a4"
      },
      "outputs": [
        {
          "name": "stdout",
          "output_type": "stream",
          "text": [
            "CommandException: The mb command requires a URL that specifies a bucket.\n",
            "\"gs://genai-mkt-dev/tune-dataset\" is not valid.\n"
          ]
        }
      ],
      "source": [
        "! gsutil mb -l $REGION -p $PROJECT_ID $BUCKET_URI"
      ]
    },
    {
      "cell_type": "markdown",
      "metadata": {
        "id": "jNL0oqUJaalH"
      },
      "source": [
        "Finally, validate access to your Cloud Storage bucket by examining its contents:"
      ]
    },
    {
      "cell_type": "code",
      "execution_count": 16,
      "metadata": {
        "colab": {
          "base_uri": "https://localhost:8080/"
        },
        "id": "leJFL5oIaalH",
        "outputId": "306dde0d-f7f3-49d1-880c-c0628e9decab"
      },
      "outputs": [
        {
          "name": "stdout",
          "output_type": "stream",
          "text": [
            "         0  2024-02-27T08:10:46Z  gs://genai-mkt-dev/tune-dataset/#1709021446382005  metageneration=1\n",
            "     50342  2024-02-27T08:14:13Z  gs://genai-mkt-dev/tune-dataset/tune_data_brand_voice.jsonl#1709021653614330  metageneration=1\n",
            "     20866  2024-02-27T08:28:23Z  gs://genai-mkt-dev/tune-dataset/tune_eval_data_brand_voice.jsonl#1709022503861849  metageneration=1\n",
            "                                 gs://genai-mkt-dev/tune-dataset/genai-tuned-model-khzprkhd/\n",
            "TOTAL: 3 objects, 71208 bytes (69.54 KiB)\n"
          ]
        }
      ],
      "source": [
        "! gsutil ls -al $BUCKET_URI"
      ]
    },
    {
      "cell_type": "markdown",
      "metadata": {
        "id": "XoEqT2Y4DJmf"
      },
      "source": [
        "### Import libraries"
      ]
    },
    {
      "cell_type": "markdown",
      "metadata": {
        "id": "0E7pfl6sjzh_"
      },
      "source": [
        "**Colab only**: Run the following cell to initialize the Vertex AI SDK. For Vertex AI Workbench, you don't need to run this."
      ]
    },
    {
      "cell_type": "code",
      "execution_count": 17,
      "metadata": {
        "id": "JXlNPFmGjzh_"
      },
      "outputs": [],
      "source": [
        "import vertexai\n",
        "\n",
        "vertexai.init(project=PROJECT_ID, location=REGION)"
      ]
    },
    {
      "cell_type": "code",
      "execution_count": 18,
      "metadata": {
        "id": "pRUOFELefqf1"
      },
      "outputs": [],
      "source": [
        "from typing import Union\n",
        "\n",
        "import pandas as pd\n",
        "\n",
        "from google.cloud import aiplatform\n",
        "from vertexai.language_models import TextGenerationModel"
      ]
    },
    {
      "cell_type": "markdown",
      "metadata": {
        "id": "WdtNETYxaalH"
      },
      "source": [
        "## Tune your Model\n",
        "\n",
        "Now it's time for you to create a tuning job. Tune a foundation model by creating a pipeline job using Generative AI Studio, cURL, or the Python SDK. In this notebook, we will be using the Python SDK. You will be using a Q&A with a context dataset in JSON format.\n",
        "\n",
        "### Training Data\n",
        "💾 Your model tuning dataset must be in a JSONL format where each line contains a single training example. You must make sure that you include instructions.\n",
        "\n",
        "Upload to cloud storage bucket and add filenames below\n"
      ]
    },
    {
      "cell_type": "code",
      "execution_count": 19,
      "metadata": {
        "id": "vXVV9c0HaalJ"
      },
      "outputs": [],
      "source": [
        "training_data_filename = \"tune_data_brand_voice.jsonl\""
      ]
    },
    {
      "cell_type": "code",
      "execution_count": 20,
      "metadata": {
        "id": "4eULfrv2rTjO"
      },
      "outputs": [],
      "source": [
        "evaluation_data_filename = \"tune_eval_data_brand_voice.jsonl\""
      ]
    },
    {
      "cell_type": "markdown",
      "metadata": {
        "id": "Ff68wmzoaalN"
      },
      "source": [
        "You can check to make sure that the files are available in your Google Cloud Storage bucket:"
      ]
    },
    {
      "cell_type": "code",
      "execution_count": 21,
      "metadata": {
        "colab": {
          "base_uri": "https://localhost:8080/"
        },
        "id": "2-DnKpYlaalN",
        "outputId": "7ece2507-3220-4aa7-fd3c-8263db88cebc"
      },
      "outputs": [
        {
          "name": "stdout",
          "output_type": "stream",
          "text": [
            "         0  2024-02-27T08:10:46Z  gs://genai-mkt-dev/tune-dataset/#1709021446382005  metageneration=1\n",
            "     50342  2024-02-27T08:14:13Z  gs://genai-mkt-dev/tune-dataset/tune_data_brand_voice.jsonl#1709021653614330  metageneration=1\n",
            "     20866  2024-02-27T08:28:23Z  gs://genai-mkt-dev/tune-dataset/tune_eval_data_brand_voice.jsonl#1709022503861849  metageneration=1\n",
            "                                 gs://genai-mkt-dev/tune-dataset/genai-tuned-model-khzprkhd/\n",
            "TOTAL: 3 objects, 71208 bytes (69.54 KiB)\n"
          ]
        }
      ],
      "source": [
        "! gsutil ls -al $BUCKET_URI"
      ]
    },
    {
      "cell_type": "code",
      "execution_count": 22,
      "metadata": {
        "id": "8wE9P7OFaalN"
      },
      "outputs": [],
      "source": [
        "TRAINING_DATA_URI = f\"{BUCKET_URI}/{training_data_filename}\"\n",
        "EVAUATION_DATA_URI = f\"{BUCKET_URI}/{evaluation_data_filename}\""
      ]
    },
    {
      "cell_type": "markdown",
      "metadata": {
        "id": "-mW7K57BaalN",
        "tags": []
      },
      "source": [
        "### Model Tuning\n",
        "Now it's time to start to tune a model. You will use the Vertex AI SDK to submit our tuning job.\n",
        "\n",
        "#### Recommended Tuning Configurations\n",
        "✅ Here are some recommended configurations for tuning a foundation model based on the task, in this example Q&A. You can find more in the [documentation](https://cloud.google.com/vertex-ai/docs/generative-ai/models/tune-models).\n",
        "\n",
        "Extractive QA:\n",
        "- Make sure that your train dataset size is 100+\n",
        "- Training steps [100-500]. You can try more than one value to get the best performance on a particular dataset (e.g. 100, 200, 500)"
      ]
    },
    {
      "cell_type": "code",
      "execution_count": 23,
      "metadata": {
        "colab": {
          "base_uri": "https://localhost:8080/"
        },
        "id": "-vP_jeATTnbK",
        "outputId": "8aa3efa2-1545-4b7e-f853-a4f64441d209"
      },
      "outputs": [
        {
          "name": "stderr",
          "output_type": "stream",
          "text": [
            "INFO:google.cloud.aiplatform.tensorboard.tensorboard_resource:Creating Tensorboard\n",
            "INFO:google.cloud.aiplatform.tensorboard.tensorboard_resource:Create Tensorboard backing LRO: projects/882920967572/locations/us-central1/tensorboards/432877727855411200/operations/6991465721410617344\n",
            "INFO:google.cloud.aiplatform.tensorboard.tensorboard_resource:Tensorboard created. Resource name: projects/882920967572/locations/us-central1/tensorboards/432877727855411200\n",
            "INFO:google.cloud.aiplatform.tensorboard.tensorboard_resource:To use this Tensorboard in another session:\n",
            "INFO:google.cloud.aiplatform.tensorboard.tensorboard_resource:tb = aiplatform.Tensorboard('projects/882920967572/locations/us-central1/tensorboards/432877727855411200')\n"
          ]
        },
        {
          "name": "stdout",
          "output_type": "stream",
          "text": [
            "Adapter tuning Voice - \n",
            "projects/882920967572/locations/us-central1/tensorboards/432877727855411200\n"
          ]
        }
      ],
      "source": [
        "# create tensorboard\n",
        "display_name = \"Adapter tuning Voice - \"\n",
        "\n",
        "tensorboard = aiplatform.Tensorboard.create(\n",
        "    display_name=display_name,\n",
        "    project=PROJECT_ID,\n",
        "    location=REGION,\n",
        ")\n",
        "\n",
        "print(tensorboard.display_name)\n",
        "print(tensorboard.resource_name)"
      ]
    },
    {
      "cell_type": "code",
      "execution_count": 24,
      "metadata": {
        "colab": {
          "base_uri": "https://localhost:8080/"
        },
        "id": "0CFVBoFu5Cnx",
        "outputId": "bed01f93-7d6b-49da-f5f2-d47ff7d64617"
      },
      "outputs": [
        {
          "name": "stdout",
          "output_type": "stream",
          "text": [
            "432877727855411200\n"
          ]
        }
      ],
      "source": [
        "# Get tensorboard_id thats used in the pipeline\n",
        "tensorboard_id = tensorboard.resource_name.split(\"tensorboards/\")[-1]\n",
        "print(tensorboard_id)"
      ]
    },
    {
      "cell_type": "code",
      "execution_count": 25,
      "metadata": {
        "id": "26HRfld3aalN"
      },
      "outputs": [],
      "source": [
        "MODEL_NAME = f\"genai-tuned-model-{UUID}\"\n",
        "TRAINING_STEPS = 100"
      ]
    },
    {
      "cell_type": "code",
      "execution_count": 26,
      "metadata": {
        "id": "DvG1Rp3-iAG_"
      },
      "outputs": [],
      "source": [
        "pipeline_arguments = {\n",
        "    \"model_display_name\": MODEL_NAME,\n",
        "    \"location\": REGION,\n",
        "    \"large_model_reference\": \"text-bison@002\",\n",
        "    \"project\": PROJECT_ID,\n",
        "    \"train_steps\": TRAINING_STEPS,\n",
        "    \"dataset_uri\": TRAINING_DATA_URI,\n",
        "    \"evaluation_interval\": 20,\n",
        "    \"evaluation_data_uri\": EVAUATION_DATA_URI,\n",
        "    \"tensorboard_resource_id\": tensorboard_id,\n",
        "}\n",
        "\n",
        "pipeline_root = f\"{BUCKET_URI}/{MODEL_NAME}\"\n",
        "template_path = \"https://us-kfp.pkg.dev/ml-pipeline/large-language-model-pipelines/tune-large-model/v2.0.0\""
      ]
    },
    {
      "cell_type": "code",
      "execution_count": 27,
      "metadata": {
        "id": "on4baTh5aalN"
      },
      "outputs": [],
      "source": [
        "# Function that starts the tuning job\n",
        "def tuned_model(\n",
        "    project_id: str,\n",
        "    location: str,\n",
        "    template_path: str,\n",
        "    model_display_name: str,\n",
        "    pipeline_arguments: str,\n",
        "):\n",
        "    \"\"\"Prompt-tune a new model, based on a prompt-response data.\n",
        "\n",
        "    \"training_data\" can be either the GCS URI of a file formatted in JSONL format\n",
        "    (for example: training_data=f'gs://{bucket}/{filename}.jsonl'), or a pandas\n",
        "    DataFrame. Each training example should be JSONL record with two keys, for\n",
        "    example:\n",
        "      {\n",
        "        \"input_text\": <input prompt>,\n",
        "        \"output_text\": <associated output>\n",
        "      },\n",
        "\n",
        "    Args:\n",
        "      project_id: GCP Project ID, used to initialize aiplatform\n",
        "      location: GCP Region, used to initialize aiplatform\n",
        "      template_path: path to the template\n",
        "      model_display_name: Name for your model.\n",
        "      pipeline_arguments: arguments used during pipeline runtime\n",
        "    \"\"\"\n",
        "\n",
        "    aiplatform.init(project=project_id, location=location)\n",
        "\n",
        "    from google.cloud.aiplatform import PipelineJob\n",
        "\n",
        "    job = PipelineJob(\n",
        "        template_path=template_path,\n",
        "        display_name=model_display_name,\n",
        "        parameter_values=pipeline_arguments,\n",
        "        location=REGION,\n",
        "        pipeline_root=pipeline_root,\n",
        "        enable_caching=True,\n",
        "    )\n",
        "\n",
        "    return job"
      ]
    },
    {
      "cell_type": "markdown",
      "metadata": {
        "id": "o0XNL9ojaalN"
      },
      "source": [
        "Next, it's time to start your tuning job.\n",
        "\n",
        "**Disclaimer:** tuning and deploying a model takes time."
      ]
    },
    {
      "cell_type": "code",
      "execution_count": 28,
      "metadata": {
        "id": "m0m86z20zFgl"
      },
      "outputs": [],
      "source": [
        "job = tuned_model(PROJECT_ID, REGION, template_path, MODEL_NAME, pipeline_arguments)"
      ]
    },
    {
      "cell_type": "code",
      "execution_count": 29,
      "metadata": {
        "colab": {
          "base_uri": "https://localhost:8080/"
        },
        "id": "NPHoXo8UIhlz",
        "outputId": "ec12b7e5-f9d5-45ba-a7a7-f91234e6172c"
      },
      "outputs": [
        {
          "name": "stderr",
          "output_type": "stream",
          "text": [
            "INFO:google.cloud.aiplatform.pipeline_jobs:Creating PipelineJob\n",
            "INFO:google.cloud.aiplatform.pipeline_jobs:PipelineJob created. Resource name: projects/882920967572/locations/us-central1/pipelineJobs/tune-large-model-20240328232057\n",
            "INFO:google.cloud.aiplatform.pipeline_jobs:To use this PipelineJob in another session:\n",
            "INFO:google.cloud.aiplatform.pipeline_jobs:pipeline_job = aiplatform.PipelineJob.get('projects/882920967572/locations/us-central1/pipelineJobs/tune-large-model-20240328232057')\n",
            "INFO:google.cloud.aiplatform.pipeline_jobs:View Pipeline Job:\n",
            "https://console.cloud.google.com/vertex-ai/locations/us-central1/pipelines/runs/tune-large-model-20240328232057?project=882920967572\n"
          ]
        }
      ],
      "source": [
        "job.submit()"
      ]
    },
    {
      "cell_type": "markdown",
      "metadata": {
        "id": "PRCkdxXvaalO"
      },
      "source": [
        "Following the link above, you can view your pipeline run. As you can see in the screenshot below, it will execute the following steps:\n",
        "\n",
        "- Validation\n",
        "- Export managed dataset\n",
        "- Convert JSONL to TFRecord\n",
        "- Large language model tuning\n",
        "- Upload LLM Model"
      ]
    },
    {
      "cell_type": "markdown",
      "metadata": {
        "id": "jq9rL5o32EXs"
      },
      "source": [
        "`job.state` lets you check the state of your pipeline."
      ]
    },
    {
      "cell_type": "code",
      "execution_count": 35,
      "metadata": {
        "colab": {
          "base_uri": "https://localhost:8080/"
        },
        "id": "u8l8o3z30WO4",
        "outputId": "10617ac0-1fa6-4b46-fee9-f2a1b4e18182"
      },
      "outputs": [
        {
          "data": {
            "text/plain": [
              "<PipelineState.PIPELINE_STATE_PENDING: 2>"
            ]
          },
          "execution_count": 35,
          "metadata": {},
          "output_type": "execute_result"
        }
      ],
      "source": [
        "job.state"
      ]
    },
    {
      "cell_type": "markdown",
      "metadata": {
        "id": "O6JC8XplaalO"
      },
      "source": [
        "## View your tuned foundational model on Vertex AI Model registry\n",
        "When your tuning job is finished, your model will be available on Vertex AI Model Registry. The following Python SDK sample shows you how to list tuned models."
      ]
    },
    {
      "cell_type": "code",
      "execution_count": 32,
      "metadata": {
        "id": "GPWX0ITCaalO"
      },
      "outputs": [],
      "source": [
        "def list_tuned_models(project_id, location):\n",
        "    aiplatform.init(project=project_id, location=location)\n",
        "    model = TextGenerationModel.from_pretrained(\"text-bison@002\")\n",
        "    tuned_model_names = model.list_tuned_model_names()\n",
        "    print(tuned_model_names)"
      ]
    },
    {
      "cell_type": "code",
      "execution_count": null,
      "metadata": {
        "colab": {
          "base_uri": "https://localhost:8080/"
        },
        "id": "bAIwCGYJaalO",
        "outputId": "e2403b39-bb42-482a-faf2-74848a515b79"
      },
      "outputs": [
        {
          "name": "stdout",
          "output_type": "stream",
          "text": [
            "['projects/244831775715/locations/us-central1/models/2124430187700420608']\n"
          ]
        }
      ],
      "source": [
        "list_tuned_models(PROJECT_ID, REGION)"
      ]
    },
    {
      "cell_type": "markdown",
      "metadata": {
        "id": "ZriyF0V-aalO"
      },
      "source": [
        "You can also use the Google Cloud Console UI to view all of your model in [Vertex AI Model Registry](https://console.cloud.google.com/vertex-ai/models). Below you can see an example of a tuned foundational model available on Vertex AI Model Registry."
      ]
    },
    {
      "cell_type": "markdown",
      "metadata": {
        "id": "cFftY6-EaalO"
      },
      "source": [
        "## Use your tuned model to get predictions\n",
        "Now it's time to get predictions. First you need to get the latest tuned model from the Vertex AI Model registry."
      ]
    },
    {
      "cell_type": "code",
      "execution_count": null,
      "metadata": {
        "id": "vU-K3EIkaalO"
      },
      "outputs": [],
      "source": [
        "def fetch_model(project_id, location):\n",
        "    aiplatform.init(project=project_id, location=location)\n",
        "    model = TextGenerationModel.from_pretrained(\"text-bison@002\")\n",
        "    list_tuned_models = model.list_tuned_model_names()\n",
        "    tuned_model = list_tuned_models[0]\n",
        "\n",
        "    return tuned_model"
      ]
    },
    {
      "cell_type": "code",
      "execution_count": null,
      "metadata": {
        "id": "j66dr12taalO"
      },
      "outputs": [],
      "source": [
        "deployed_model = fetch_model(PROJECT_ID, REGION)\n",
        "deployed_model = TextGenerationModel.get_tuned_model(deployed_model)"
      ]
    },
    {
      "cell_type": "markdown",
      "metadata": {
        "id": "xDOueoptaalO"
      },
      "source": [
        "Now you can start send a prompt to the API. Feel free to update the following prompt."
      ]
    },
    {
      "cell_type": "code",
      "execution_count": null,
      "metadata": {
        "id": "2ERbfPJPaalO"
      },
      "outputs": [],
      "source": [
        "PROMPT = \"\"\"\n",
        "Theme: Sales of new women's handbags at Cymbal\\nUsing the Brand Voice, generate a personalized email with the theme mentioned above for the user\n",
        "\"\"\""
      ]
    },
    {
      "cell_type": "code",
      "execution_count": null,
      "metadata": {
        "colab": {
          "base_uri": "https://localhost:8080/"
        },
        "id": "trzon4EyaalO",
        "outputId": "549b4ace-b42a-4a90-ab76-83ada258ccd8"
      },
      "outputs": [
        {
          "name": "stdout",
          "output_type": "stream",
          "text": [
            "MultiCandidateTextGenerationResponse(text=\" Subject: Discover the Latest Trends in Women's Handbags at Cymbal\\n\\nDear [User Name],\\n\\nWe're thrilled to announce the arrival of our new collection of women's handbags at Cymbal.\\n\\nOur designers have created a stunning array of styles, from classic totes to chic crossbody bags, each crafted with the finest materials and attention to detail.\\n\\nWhether you're looking for a timeless piece to complement your everyday wardrobe or a statement-making accessory for a special occasion, you'll find the perfect handbag at Cymbal.\\n\\nVisit our website or your nearest Cymbal store today to browse the collection and find your\", _prediction_response=Prediction(predictions=[{'citationMetadata': {'citations': []}, 'safetyAttributes': {'blocked': False, 'categories': ['Derogatory', 'Insult', 'Profanity', 'Sexual'], 'scores': [0.1, 0.1, 0.1, 0.3], 'safetyRatings': [{'probabilityScore': 0.0, 'category': 'Dangerous Content', 'severityScore': 0.0, 'severity': 'NEGLIGIBLE'}, {'category': 'Harassment', 'severity': 'NEGLIGIBLE', 'probabilityScore': 0.1, 'severityScore': 0.1}, {'severity': 'NEGLIGIBLE', 'category': 'Hate Speech', 'probabilityScore': 0.1, 'severityScore': 0.0}, {'severityScore': 0.2, 'severity': 'NEGLIGIBLE', 'probabilityScore': 0.3, 'category': 'Sexually Explicit'}]}, 'content': \" Subject: Discover the Latest Trends in Women's Handbags at Cymbal\\n\\nDear [User Name],\\n\\nWe're thrilled to announce the arrival of our new collection of women's handbags at Cymbal.\\n\\nOur designers have created a stunning array of styles, from classic totes to chic crossbody bags, each crafted with the finest materials and attention to detail.\\n\\nWhether you're looking for a timeless piece to complement your everyday wardrobe or a statement-making accessory for a special occasion, you'll find the perfect handbag at Cymbal.\\n\\nVisit our website or your nearest Cymbal store today to browse the collection and find your\"}], deployed_model_id='6533894027547246592', metadata={'tokenMetadata': {'inputTokenCount': {'totalTokens': 32.0, 'totalBillableCharacters': 120.0}, 'outputTokenCount': {'totalBillableCharacters': 513.0, 'totalTokens': 128.0}}}, model_version_id='1', model_resource_name='projects/244831775715/locations/us-central1/models/2124430187700420608', explanations=None), is_blocked=False, errors=(), safety_attributes={'Derogatory': 0.1, 'Insult': 0.1, 'Profanity': 0.1, 'Sexual': 0.3}, grounding_metadata=GroundingMetadata(citations=[], search_queries=[]), candidates=[ Subject: Discover the Latest Trends in Women's Handbags at Cymbal\n",
            "\n",
            "Dear [User Name],\n",
            "\n",
            "We're thrilled to announce the arrival of our new collection of women's handbags at Cymbal.\n",
            "\n",
            "Our designers have created a stunning array of styles, from classic totes to chic crossbody bags, each crafted with the finest materials and attention to detail.\n",
            "\n",
            "Whether you're looking for a timeless piece to complement your everyday wardrobe or a statement-making accessory for a special occasion, you'll find the perfect handbag at Cymbal.\n",
            "\n",
            "Visit our website or your nearest Cymbal store today to browse the collection and find your])\n"
          ]
        }
      ],
      "source": [
        "print(deployed_model.predict(PROMPT))"
      ]
    },
    {
      "cell_type": "markdown",
      "metadata": {
        "id": "YBeqXOesq2X0"
      },
      "source": [
        "Compare with Foundation Model Prediction"
      ]
    },
    {
      "cell_type": "code",
      "execution_count": null,
      "metadata": {
        "colab": {
          "base_uri": "https://localhost:8080/"
        },
        "id": "NGJ7Yr7KqWbF",
        "outputId": "8159e162-7b4e-40f3-ba22-d877ec6c4e55"
      },
      "outputs": [
        {
          "name": "stdout",
          "output_type": "stream",
          "text": [
            "MultiCandidateTextGenerationResponse(text=' Subject: Discover the Latest Trends in Women\\'s Handbags at Cymbal\\n\\nDear [User\\'s Name],\\n\\nWe hope this email finds you well. As a valued customer of Cymbal, we\\'re excited to share with you our latest collection of women\\'s handbags.\\n\\nOur team has carefully curated a selection of stylish and functional handbags that cater to the modern woman\\'s needs. From classic leather totes to trendy crossbody bags, we have something for every occasion.\\n\\nHere are a few highlights from our new collection:\\n\\n- The \"Amelia\" tote bag: This spacious and versatile tote is perfect for everyday use. It', _prediction_response=Prediction(predictions=[{'citationMetadata': {'citations': []}, 'safetyAttributes': {'safetyRatings': [{'severity': 'NEGLIGIBLE', 'probabilityScore': 0.0, 'severityScore': 0.0, 'category': 'Dangerous Content'}, {'severity': 'NEGLIGIBLE', 'severityScore': 0.0, 'category': 'Harassment', 'probabilityScore': 0.1}, {'severity': 'NEGLIGIBLE', 'category': 'Hate Speech', 'probabilityScore': 0.1, 'severityScore': 0.1}, {'probabilityScore': 0.3, 'severityScore': 0.1, 'severity': 'NEGLIGIBLE', 'category': 'Sexually Explicit'}], 'categories': ['Derogatory', 'Finance', 'Insult', 'Profanity', 'Religion & Belief', 'Sexual'], 'scores': [0.1, 0.1, 0.1, 0.1, 0.2, 0.3], 'blocked': False}, 'content': ' Subject: Discover the Latest Trends in Women\\'s Handbags at Cymbal\\n\\nDear [User\\'s Name],\\n\\nWe hope this email finds you well. As a valued customer of Cymbal, we\\'re excited to share with you our latest collection of women\\'s handbags.\\n\\nOur team has carefully curated a selection of stylish and functional handbags that cater to the modern woman\\'s needs. From classic leather totes to trendy crossbody bags, we have something for every occasion.\\n\\nHere are a few highlights from our new collection:\\n\\n- The \"Amelia\" tote bag: This spacious and versatile tote is perfect for everyday use. It'}], deployed_model_id='', metadata={'tokenMetadata': {'outputTokenCount': {'totalTokens': 128.0, 'totalBillableCharacters': 482.0}, 'inputTokenCount': {'totalBillableCharacters': 120.0, 'totalTokens': 32.0}}}, model_version_id='', model_resource_name='', explanations=None), is_blocked=False, errors=(), safety_attributes={'Derogatory': 0.1, 'Finance': 0.1, 'Insult': 0.1, 'Profanity': 0.1, 'Religion & Belief': 0.2, 'Sexual': 0.3}, grounding_metadata=GroundingMetadata(citations=[], search_queries=[]), candidates=[ Subject: Discover the Latest Trends in Women's Handbags at Cymbal\n",
            "\n",
            "Dear [User's Name],\n",
            "\n",
            "We hope this email finds you well. As a valued customer of Cymbal, we're excited to share with you our latest collection of women's handbags.\n",
            "\n",
            "Our team has carefully curated a selection of stylish and functional handbags that cater to the modern woman's needs. From classic leather totes to trendy crossbody bags, we have something for every occasion.\n",
            "\n",
            "Here are a few highlights from our new collection:\n",
            "\n",
            "- The \"Amelia\" tote bag: This spacious and versatile tote is perfect for everyday use. It])\n"
          ]
        }
      ],
      "source": [
        "foundation_model = TextGenerationModel.from_pretrained(\"text-bison@002\")\n",
        "print(foundation_model.predict(PROMPT))"
      ]
    },
    {
      "cell_type": "code",
      "execution_count": null,
      "metadata": {
        "id": "_onxh9bzBlGO"
      },
      "outputs": [],
      "source": []
    }
  ],
  "metadata": {
    "colab": {
      "provenance": []
    },
    "environment": {
      "kernel": "python3",
      "name": "tf2-gpu.2-11.m108",
      "type": "gcloud",
      "uri": "gcr.io/deeplearning-platform-release/tf2-gpu.2-11:m108"
    },
    "kernelspec": {
      "display_name": "Python 3 (ipykernel)",
      "language": "python",
      "name": "python3"
    },
    "language_info": {
      "codemirror_mode": {
        "name": "ipython",
        "version": 3
      },
      "file_extension": ".py",
      "mimetype": "text/x-python",
      "name": "python",
      "nbconvert_exporter": "python",
      "pygments_lexer": "ipython3",
      "version": "3.11.7"
    }
  },
  "nbformat": 4,
  "nbformat_minor": 0
}
